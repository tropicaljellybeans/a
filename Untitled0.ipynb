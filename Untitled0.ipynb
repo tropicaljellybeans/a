{
  "nbformat": 4,
  "nbformat_minor": 0,
  "metadata": {
    "colab": {
      "provenance": [],
      "authorship_tag": "ABX9TyOQmrHFizybwlg3TDY8IeRU",
      "include_colab_link": true
    },
    "kernelspec": {
      "name": "python3",
      "display_name": "Python 3"
    },
    "language_info": {
      "name": "python"
    }
  },
  "cells": [
    {
      "cell_type": "markdown",
      "metadata": {
        "id": "view-in-github",
        "colab_type": "text"
      },
      "source": [
        "<a href=\"https://colab.research.google.com/github/tropicaljellybeans/a/blob/main/Untitled0.ipynb\" target=\"_parent\"><img src=\"https://colab.research.google.com/assets/colab-badge.svg\" alt=\"Open In Colab\"/></a>"
      ]
    },
    {
      "cell_type": "code",
      "execution_count": 2,
      "metadata": {
        "id": "rQQH64p5nWwA"
      },
      "outputs": [],
      "source": [
        "import pandas as pd\n",
        "from flask import Flask"
      ]
    },
    {
      "cell_type": "markdown",
      "source": [],
      "metadata": {
        "id": "2UZmBzG9nYU1"
      }
    },
    {
      "cell_type": "code",
      "source": [
        "app"
      ],
      "metadata": {
        "id": "kExG_qPAnbPa"
      },
      "execution_count": null,
      "outputs": []
    },
    {
      "cell_type": "code",
      "source": [
        "def binary_search(arr, target):\n",
        "    \"\"\"\n",
        "    Performs a binary search on a sorted array.\n",
        "\n",
        "    Args:\n",
        "        arr: A sorted list of elements.\n",
        "        target: The element to search for.\n",
        "\n",
        "    Returns:\n",
        "        The index of the target if found, otherwise -1.\n",
        "    \"\"\"\n",
        "    left = 0\n",
        "    right = len(arr) - 1\n",
        "\n",
        "    while left <= right:\n",
        "        mid = (left + right) // 2  # Calculate the middle index\n",
        "\n",
        "        if arr[mid] == target:\n",
        "            return mid  # Target found, return the index\n",
        "        elif arr[mid] < target:\n",
        "            left = mid + 1  # Target is in the right half\n",
        "        else:\n",
        "            right = mid - 1  # Target is in the left half\n",
        "\n",
        "    return -1  # Target not found\n",
        "\n",
        "# Example usage:\n",
        "sorted_list = [2, 5, 8, 12, 16, 23, 38, 56, 72, 91]\n",
        "\n",
        "# Test Case 1: Target exists in the list\n",
        "target_value1 = 16\n",
        "result1 = binary_search(sorted_list, target_value1)\n",
        "\n",
        "if result1 != -1:\n",
        "    print(f\"Element {target_value1} found at index {result1}\")\n",
        "else:\n",
        "    print(f\"Element {target_value1} not found in the list\")\n",
        "\n",
        "# Test Case 2: Target exists at the beginning of the list\n",
        "target_value2 = 2\n",
        "result2 = binary_search(sorted_list, target_value2)\n",
        "\n",
        "if result2 != -1:\n",
        "    print(f\"Element {target_value2} found at index {result2}\")\n",
        "else:\n",
        "    print(f\"Element {target_value2} not found in the list\")\n",
        "\n",
        "# Test Case 3: Target exists at the end of the list\n",
        "target_value3 = 91\n",
        "result3 = binary_search(sorted_list, target_value3)\n",
        "\n",
        "if result3 != -1:\n",
        "    print(f\"Element {target_value3} found at index {result3}\")\n",
        "else:\n",
        "    print(f\"Element {target_value3} not found in the list\")\n",
        "\n",
        "# Test Case 4: Target does not exist in the list\n",
        "target_value4 = 40\n",
        "result4 = binary_search(sorted_list, target_value4)\n",
        "\n",
        "if result4 != -1:\n",
        "    print(f\"Element {target_value4} found at index {result4}\")\n",
        "else:\n",
        "    print(f\"Element {target_value4} not found in the list\")\n",
        "\n",
        "# Test Case 5: Empty list\n",
        "empty_list = []\n",
        "target_value5 = 10\n",
        "result5 = binary_search(empty_list, target_value5)\n",
        "if result5 != -1:\n",
        "    print(f\"Element {target_value5} found at index {result5}\")\n",
        "else:\n",
        "    print(f\"Element {target_value5} not found in the list\")\n",
        "\n",
        "# Test Case 6: List with one element, element is found.\n",
        "one_list = [5]\n",
        "target_value6 = 5\n",
        "result6 = binary_search(one_list, target_value6)\n",
        "if result6 != -1:\n",
        "    print(f\"Element {target_value6} found at index {result6}\")\n",
        "else:\n",
        "    print(f\"Element {target_value6} not found in the list\")\n",
        "\n",
        "# Test Case 7: List with one element, element is not found.\n",
        "one_list2 = [5]\n",
        "target_value7 = 10\n",
        "result7 = binary_search(one_list2, target_value7)\n",
        "if result7 != -1:\n",
        "    print(f\"Element {target_value7} found at index {result7}\")\n",
        "else:\n",
        "    print(f\"Element {target_value7} not found in the list\")"
      ],
      "metadata": {
        "colab": {
          "base_uri": "https://localhost:8080/"
        },
        "id": "kVDafKzIna1q",
        "outputId": "7d46112a-6012-4345-c5d8-a6defa9c8f62"
      },
      "execution_count": 4,
      "outputs": [
        {
          "output_type": "stream",
          "name": "stdout",
          "text": [
            "Element 16 found at index 4\n",
            "Element 2 found at index 0\n",
            "Element 91 found at index 9\n",
            "Element 40 not found in the list\n",
            "Element 10 not found in the list\n",
            "Element 5 found at index 0\n",
            "Element 10 not found in the list\n"
          ]
        }
      ]
    },
    {
      "cell_type": "code",
      "source": [],
      "metadata": {
        "id": "5XtNwZkiuy0Q"
      },
      "execution_count": null,
      "outputs": []
    }
  ]
}